{
 "cells": [
  {
   "cell_type": "code",
   "execution_count": 14,
   "id": "7ceaf38c",
   "metadata": {
    "scrolled": true
   },
   "outputs": [
    {
     "data": {
      "text/plain": [
       "'street1_optimized.jpg'"
      ]
     },
     "execution_count": 14,
     "metadata": {},
     "output_type": "execute_result"
    }
   ],
   "source": [
    "def process_street_image_optimized(image_path):\n",
    "    \n",
    "    image = cv2.imread(image_path)\n",
    "    \n",
    "    # Convert to grayscale\n",
    "    gray = cv2.cvtColor(image, cv2.COLOR_BGR2GRAY)\n",
    "\n",
    "    # Apply Gaussian blur\n",
    "    blurred = cv2.GaussianBlur(gray, (5, 5), 0)\n",
    "\n",
    "    # Canny edge detection with optimized thresholds\n",
    "    edges = cv2.Canny(blurred, 75, 150)\n",
    "\n",
    "    # Hough lines detection with optimized parameters\n",
    "    lines = cv2.HoughLinesP(edges, 1, np.pi / 180, threshold=100, minLineLength=120, maxLineGap=200)\n",
    "\n",
    "    # Drawing the lines on the original image\n",
    "    line_image = np.copy(image)\n",
    "    if lines is not None:\n",
    "        for line in lines:\n",
    "            for x1, y1, x2, y2 in line:\n",
    "                cv2.line(line_image, (x1, y1), (x2, y2), (0, 255, 0), 3)\n",
    "\n",
    "    # Save the image with lines drawn on it\n",
    "    result_path = image_path.replace('.jpg', '_optimized.jpg')\n",
    "    cv2.imwrite(result_path, line_image)\n",
    "\n",
    "    return result_path\n",
    "\n",
    "street_image_path_3 = 'street1.jpg'\n",
    "\n",
    "\n",
    "processed_optimized_path_3 = process_street_image_optimized(street_image_path_3)\n",
    "processed_optimized_path_3"
   ]
  },
  {
   "cell_type": "code",
   "execution_count": null,
   "id": "673eba78",
   "metadata": {},
   "outputs": [],
   "source": []
  }
 ],
 "metadata": {
  "kernelspec": {
   "display_name": "Python 3 (ipykernel)",
   "language": "python",
   "name": "python3"
  },
  "language_info": {
   "codemirror_mode": {
    "name": "ipython",
    "version": 3
   },
   "file_extension": ".py",
   "mimetype": "text/x-python",
   "name": "python",
   "nbconvert_exporter": "python",
   "pygments_lexer": "ipython3",
   "version": "3.9.13"
  }
 },
 "nbformat": 4,
 "nbformat_minor": 5
}
