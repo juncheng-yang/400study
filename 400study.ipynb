{
 "cells": [
  {
   "cell_type": "code",
   "execution_count": 4,
   "id": "7ceaf38c",
   "metadata": {
    "scrolled": true
   },
   "outputs": [
    {
     "name": "stderr",
     "output_type": "stream",
     "text": [
      "usage: ipykernel_launcher.py [-h] [--clip_limit CLIP_LIMIT] [--gauss_kernel_size GAUSS_KERNEL_SIZE]\n",
      "                             [--canny_threshold1 CANNY_THRESHOLD1] [--canny_threshold2 CANNY_THRESHOLD2]\n",
      "                             image_path\n",
      "ipykernel_launcher.py: error: unrecognized arguments: -f\n"
     ]
    },
    {
     "ename": "SystemExit",
     "evalue": "2",
     "output_type": "error",
     "traceback": [
      "An exception has occurred, use %tb to see the full traceback.\n",
      "\u001b[1;31mSystemExit\u001b[0m\u001b[1;31m:\u001b[0m 2\n"
     ]
    },
    {
     "name": "stderr",
     "output_type": "stream",
     "text": [
      "C:\\Users\\yjc60\\anaconda3\\lib\\site-packages\\IPython\\core\\interactiveshell.py:3465: UserWarning: To exit: use 'exit', 'quit', or Ctrl-D.\n",
      "  warn(\"To exit: use 'exit', 'quit', or Ctrl-D.\", stacklevel=1)\n"
     ]
    }
   ],
   "source": [
    "import cv2\n",
    "import numpy as np\n",
    "import argparse\n",
    "\n",
    "# this is to resize the image\n",
    "def resize_image_for_display(image, screen_width_inches=9.8):\n",
    "    \n",
    "    screen_width_pixels = int(screen_width_inches * 157) \n",
    "    if image.shape[1] > screen_width_pixels:\n",
    "        scale_percent = screen_width_pixels / image.shape[1]\n",
    "        width = int(image.shape[1] * scale_percent)\n",
    "        height = int(image.shape[0] * scale_percent)\n",
    "        dim = (width, height)\n",
    "        resized = cv2.resize(image, dim, interpolation=cv2.INTER_AREA)\n",
    "        return resized\n",
    "    else:\n",
    "        return image\n",
    "\n",
    "def process_street_image_optimized(image_path, clip_limit, gauss_kernel_size, canny_threshold1, canny_threshold2):\n",
    "    image = cv2.imread(image_path)\n",
    "    \n",
    "    image = cv2.imread(image_path)\n",
    "    \n",
    "    # Convert image to grayscale\n",
    "    gray = cv2.cvtColor(image, cv2.COLOR_BGR2GRAY)\n",
    "\n",
    "    # Apply adaptive histogram equalization to improve contrast\n",
    "    clahe = cv2.createCLAHE(clipLimit=2.0, tileGridSize=(8, 8))\n",
    "    equalized = clahe.apply(gray)\n",
    "    \n",
    "    # Resize for display\n",
    "    resized_gray = resize_image_for_display(gray)\n",
    "    resized_equalized = resize_image_for_display(equalized)\n",
    "    \n",
    "    # Show the original grayscale and equalized images for comparison\n",
    "    cv2.imshow('Original Grayscale Image', gray)\n",
    "    cv2.imshow('CLAHE Image', equalized)\n",
    "    cv2.waitKey(0)\n",
    "    cv2.destroyAllWindows()\n",
    "\n",
    "    # Apply Gaussian blur to smooth out noise\n",
    "    blurred = cv2.GaussianBlur(equalized, (gauss_kernel_size, gauss_kernel_size), 0)\n",
    "\n",
    "    # Canny edge detection with adjusted thresholds to decrease noise\n",
    "    edges = cv2.Canny(blurred, canny_threshold1, canny_threshold2)\n",
    "\n",
    "    # Hough lines detection with parameters adjusted to filter out short lines\n",
    "    lines = cv2.HoughLinesP(edges, 1, np.pi / 180, threshold=50, minLineLength=100, maxLineGap=20)\n",
    "\n",
    "    # Drawing the new lines on the original image\n",
    "    line_image = np.copy(image)\n",
    "    if lines is not None:\n",
    "        for line in lines:\n",
    "            for x1, y1, x2, y2 in line:\n",
    "                cv2.line(line_image, (x1, y1), (x2, y2), (0, 255, 0), 3)\n",
    "\n",
    "    # Save the image with lines drawn on it\n",
    "    result_path = image_path.replace('.jpg', '_optimized.jpg')\n",
    "    cv2.imwrite(result_path, line_image)\n",
    "\n",
    "    return result_path\n",
    "\n",
    "\n",
    "# Parse command line arguments\n",
    "parser = argparse.ArgumentParser(description='Street image processing with adjustable parameters.')\n",
    "parser.add_argument('image_path', help='Path to the input image')\n",
    "parser.add_argument('--clip_limit', type=float, default=2.0, help='Clip limit for CLAHE')\n",
    "parser.add_argument('--gauss_kernel_size', type=int, default=9, help='Size of the Gaussian kernel')\n",
    "parser.add_argument('--canny_threshold1', type=int, default=50, help='First threshold for Canny edge detection')\n",
    "parser.add_argument('--canny_threshold2', type=int, default=150, help='Second threshold for Canny edge detection')\n",
    "args = parser.parse_args()\n",
    "\n",
    "# Call the image processing function with the parsed arguments\n",
    "processed_image_path = process_street_image_optimized(\n",
    "    args.image_path,\n",
    "    args.clip_limit,\n",
    "    args.gauss_kernel_size,\n",
    "    args.canny_threshold1,\n",
    "    args.canny_threshold2\n",
    ")\n",
    "print(f\"Processed image saved at {processed_image_path}\")"
   ]
  },
  {
   "cell_type": "code",
   "execution_count": null,
   "id": "673eba78",
   "metadata": {},
   "outputs": [],
   "source": []
  }
 ],
 "metadata": {
  "kernelspec": {
   "display_name": "Python 3 (ipykernel)",
   "language": "python",
   "name": "python3"
  },
  "language_info": {
   "codemirror_mode": {
    "name": "ipython",
    "version": 3
   },
   "file_extension": ".py",
   "mimetype": "text/x-python",
   "name": "python",
   "nbconvert_exporter": "python",
   "pygments_lexer": "ipython3",
   "version": "3.9.13"
  }
 },
 "nbformat": 4,
 "nbformat_minor": 5
}
